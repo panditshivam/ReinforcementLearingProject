{
 "cells": [
  {
   "cell_type": "markdown",
   "metadata": {},
   "source": [
    "# Q Learning\n",
    "A board of nSize, initally filled with 0, objective is to fill all boxes of the board with 1, taking minimum number of steps."
   ]
  },
  {
   "cell_type": "code",
   "execution_count": 1,
   "metadata": {},
   "outputs": [],
   "source": [
    "import numpy as np\n",
    "import random\n",
    "import tensorflow as tf\n",
    "import matplotlib.pyplot as plt\n",
    "import pandas as pd\n",
    "from collections import deque"
   ]
  },
  {
   "cell_type": "markdown",
   "metadata": {},
   "source": [
    "Class for the game which decides the reward and the penality"
   ]
  },
  {
   "cell_type": "code",
   "execution_count": 2,
   "metadata": {},
   "outputs": [],
   "source": [
    "class Game:\n",
    "    board = None\n",
    "    board_size = 0\n",
    "    def __init__(self, board_size = 4):\n",
    "        self.board_size = board_size\n",
    "        self.reset()\n",
    "    def reset(self):\n",
    "        self.board = np.zeros(self.board_size)\n",
    "    def play(self, pos):\n",
    "        if self.board[pos] == 1: #Penality step\n",
    "            return (-1, False)\n",
    "        else: \n",
    "            self.board[pos] = 1 #Reward\n",
    "            gameOver = len(np.where(self.board == 0)) == 0\n",
    "            return (1,gameOver)\n",
    "        "
   ]
  },
  {
   "cell_type": "code",
   "execution_count": 3,
   "metadata": {},
   "outputs": [],
   "source": [
    "#num_of_states=[0,1,2,3,4,5,6,7,8,9,10,11,12] \n",
    "\n",
    "def state_to_str(state):\n",
    "    return str(list(map(int,state.tolist())))\n",
    "    \n",
    "totalStates = []    \n",
    "    \n",
    "for i in range(0,2):\n",
    "    for j in range(0,2):\n",
    "        for k in range(0,2):\n",
    "            for l in range(0,2):\n",
    "                totalStates.append(state_to_str(np.array([i,j,k,l])))"
   ]
  },
  {
   "cell_type": "markdown",
   "metadata": {},
   "source": [
    "# Hyperparameter\n",
    "\n",
    "1) Gamma used to control the weightage of the previous knowledge.\n",
    "\n",
    "2) Epsilion control the reinforcement model to take chances for new learning set as 0.1."
   ]
  },
  {
   "cell_type": "code",
   "execution_count": 4,
   "metadata": {},
   "outputs": [],
   "source": [
    "num_of_games = 2000 #number of iteration for training\n",
    "epsilon = 0.1 #\n",
    "gamma = 1 \n",
    "\n",
    "\n",
    "game = Game() #object of class Game\n",
    "\n"
   ]
  },
  {
   "cell_type": "code",
   "execution_count": 6,
   "metadata": {},
   "outputs": [],
   "source": [
    "q_table = pd.DataFrame(0, index=np.arange(0,3),columns = totalStates)"
   ]
  },
  {
   "cell_type": "markdown",
   "metadata": {},
   "source": [
    "# Learning\n",
    "\n"
   ]
  },
  {
   "cell_type": "markdown",
   "metadata": {},
   "source": [
    "Q-learing makes a table of size states*action, from the table the maximum value is chosen for the updating the Q_Table based on the action chosen.\n",
    "\n",
    "Formula\n"
   ]
  },
  {
   "cell_type": "code",
   "execution_count": null,
   "metadata": {},
   "outputs": [],
   "source": [
    "r_list = [] #store the rewards for each iteration of training\n",
    "\n",
    "for q in range(2):\n",
    "    gameOver = False\n",
    "    game.reset()\n",
    "    total_reward = 0\n",
    "    while not gameOver:\n",
    "        state = np.copy(game.board)\n",
    "        if random.random()<epsilon:\n",
    "            action = random.randint(0,3)\n",
    "        else:\n",
    "            action = q_table[state_to_str(state)].idxmax()\n",
    "        reward,gameOver = game.play(action)\n",
    "        total_reward += reward\n",
    "        if np.sum(game.board) == 4:\n",
    "            next_state_max_q_value = 0\n",
    "        else :\n",
    "            next_state = np.copy(game.board)\n",
    "            next_state_max_q_value = q_table[state_to_str(next_state)].max()\n",
    "        q_table.loc[action,state_to_str(state)] = reward + gamma * next_state_max_q_value\n",
    "    r_list.append(total_reward)\n",
    "q_table"
   ]
  },
  {
   "cell_type": "code",
   "execution_count": null,
   "metadata": {},
   "outputs": [],
   "source": [
    "for i in range(0,2):\n",
    "    for j in range(0,2):\n",
    "        for k in range (0,2):\n",
    "            for l in range(0,2):\n",
    "                b = np.array(i,j,k,l)\n",
    "                "
   ]
  },
  {
   "cell_type": "code",
   "execution_count": null,
   "metadata": {},
   "outputs": [],
   "source": []
  }
 ],
 "metadata": {
  "kernelspec": {
   "display_name": "Python 3",
   "language": "python",
   "name": "python3"
  },
  "language_info": {
   "codemirror_mode": {
    "name": "ipython",
    "version": 3
   },
   "file_extension": ".py",
   "mimetype": "text/x-python",
   "name": "python",
   "nbconvert_exporter": "python",
   "pygments_lexer": "ipython3",
   "version": "3.6.7"
  }
 },
 "nbformat": 4,
 "nbformat_minor": 2
}
